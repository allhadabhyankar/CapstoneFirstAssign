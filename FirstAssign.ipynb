{
 "cells": [
  {
   "cell_type": "markdown",
   "metadata": {},
   "source": [
    "<html>\n",
    "<h1> Allhad's First Assignment for Data Analysis Capstone Project </h1>\n",
    "</html>\n"
   ]
  },
  {
   "cell_type": "markdown",
   "metadata": {},
   "source": [
    "<html><p>\n",
    "    This is the first assignment of the IBM's Data Science Capstone Project. The objective of this test is to \n",
    "    start a Jupyter Notebook using any platform that you are comfortable with and do the following:\n",
    "    <ol>\n",
    "    <li>Write some markdown to explain that this notebook will be mainly used for the capstone project.\n",
    "    <li>Import the pandas library as pd.\n",
    "    <li>Import the Numpy library as np.\n",
    "    <li>Print the following the statement: Hello Capstone Project Course!\n",
    "    </ol>\n",
    "    </p>\n",
    "    </html>"
   ]
  },
  {
   "cell_type": "code",
   "execution_count": 1,
   "metadata": {},
   "outputs": [],
   "source": [
    "#import the files required by the project\n",
    "import pandas as pd\n",
    "import numpy as np\n"
   ]
  },
  {
   "cell_type": "code",
   "execution_count": 2,
   "metadata": {},
   "outputs": [
    {
     "name": "stdout",
     "output_type": "stream",
     "text": [
      "Hello Capstone Project Course\n"
     ]
    }
   ],
   "source": [
    "print(\"Hello Capstone Project Course\")"
   ]
  },
  {
   "cell_type": "code",
   "execution_count": null,
   "metadata": {},
   "outputs": [],
   "source": []
  }
 ],
 "metadata": {
  "kernelspec": {
   "display_name": "Python",
   "language": "python",
   "name": "conda-env-python-py"
  },
  "language_info": {
   "codemirror_mode": {
    "name": "ipython",
    "version": 3
   },
   "file_extension": ".py",
   "mimetype": "text/x-python",
   "name": "python",
   "nbconvert_exporter": "python",
   "pygments_lexer": "ipython3",
   "version": "3.6.7"
  }
 },
 "nbformat": 4,
 "nbformat_minor": 4
}
